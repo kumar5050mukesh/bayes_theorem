{
 "cells": [
  {
   "cell_type": "code",
   "execution_count": 17,
   "metadata": {},
   "outputs": [
    {
     "data": {
      "text/plain": [
       "'P(A|B) = P(B|A) x P(A) / P(B)\\n\\nwhere----\\n\\nP(A|B) is the probability of A occcuring given that B has already occured .\\nP(B|A) is the probability of B occuring given that A has already occured.\\nP(A) is the probability of occuring of A.\\nP(B) is the probability of B occuring .\\nBayes theorem is a statistical formula to determine the conditional probability of an event. It describes the probability of an\\n event based on prior knowledge of events that have already happened'"
      ]
     },
     "execution_count": 17,
     "metadata": {},
     "output_type": "execute_result"
    }
   ],
   "source": [
    "# Q1. What is Bayes' theorem?\n",
    "\"\"\"P(A|B) = P(B|A) x P(A) / P(B)\n",
    "\n",
    "where----\n",
    "\n",
    "P(A|B) is the probability of A occcuring given that B has already occured .\n",
    "P(B|A) is the probability of B occuring given that A has already occured.\n",
    "P(A) is the probability of occuring of A.\n",
    "P(B) is the probability of B occuring .\n",
    "Bayes theorem is a statistical formula to determine the conditional probability of an event. It describes the probability of an\n",
    " event based on prior knowledge of events that have already happened\"\"\"\n",
    "\n",
    "\n",
    "\n",
    "\n"
   ]
  },
  {
   "cell_type": "code",
   "execution_count": 18,
   "metadata": {},
   "outputs": [
    {
     "data": {
      "text/plain": [
       "\"The formula for Bayes' theorem is---\\n\\nP(A|B) = P(B|A) x P(A) / P(B)\\n\\nP(A|B) is the probability of event A occurring given that event B has occurred .\\nP(B|A) is the probability of event B occurring given that event A has occurred .\\nP(A) is the prior probability of event A occurring. \\nP(B) is the probability of event B occurring.\""
      ]
     },
     "execution_count": 18,
     "metadata": {},
     "output_type": "execute_result"
    }
   ],
   "source": [
    "# What is the formula for Bayes' theorem?\n",
    "\"\"\"The formula for Bayes' theorem is---\n",
    "\n",
    "P(A|B) = P(B|A) x P(A) / P(B)\n",
    "\n",
    "P(A|B) is the probability of event A occurring given that event B has occurred .\n",
    "P(B|A) is the probability of event B occurring given that event A has occurred .\n",
    "P(A) is the prior probability of event A occurring. \n",
    "P(B) is the probability of event B occurring.\"\"\""
   ]
  },
  {
   "cell_type": "code",
   "execution_count": 19,
   "metadata": {},
   "outputs": [
    {
     "data": {
      "text/plain": [
       "\"Bayes' theorem is widely used in practice in many fields, including statistics, machine learning, artificial intelligence,\\n finance, and medical diagnosis, among others.\\n\\n Machine learning- Bayes' theorem is a fundamental principle that is used in Naive Bayes classifiers. Specifically, Bayes' \\n theorem is used to calculate the probability of a class label given a set of features  in a text document. \\n The Naive Bayes classifier makes a simplifying assumption that the features are conditionally independent of each\\n  other given the class label, allowing the model to estimate the joint probability of the features and class label\\n   using Bayes' theorem.\\n   \\nMedical diagnosis--- Bayes' theorem is used to calculate the probability of a patient having a particular disease based on their\\n symptoms and test results. The theorem allows doctors to incorporate prior knowledge about the prevalence of the disease in\\n  the population, as well as the accuracy of the diagnostic tests, to arrive at a more accurate diagnosis.\\n\\nSpam filtering--- Bayes' theorem is used in email spam filtering algorithms to classify incoming messages as spam or not spam. \\nThe theorem allows the algorithm to learn from previous examples of spam and non-spam emails to improve its accuracy over time.\\n\\nFinancial risk management--- Bayes' theorem is used in financial risk management to calculate the probability of an event, \\nsuch as a market crash or default on a loan, based on historical data and other relevant factors. The theorem allows financial \\ninstitutions to make more informed decisions about risk and portfolio management.\\n\\nPredictive modeling--- Bayes' theorem is used in predictive modeling to estimate the probability of a future event based on\\n past observations. The theorem can be used to update the probability estimates as new data becomes available, \\n allowing for more accurate predictions over time.\""
      ]
     },
     "execution_count": 19,
     "metadata": {},
     "output_type": "execute_result"
    }
   ],
   "source": [
    "# How is Bayes' theorem used in practice?\n",
    "\"\"\"Bayes' theorem is widely used in practice in many fields, including statistics, machine learning, artificial intelligence,\n",
    " finance, and medical diagnosis, among others.\n",
    "\n",
    " Machine learning- Bayes' theorem is a fundamental principle that is used in Naive Bayes classifiers. Specifically, Bayes' \n",
    " theorem is used to calculate the probability of a class label given a set of features  in a text document. \n",
    " The Naive Bayes classifier makes a simplifying assumption that the features are conditionally independent of each\n",
    "  other given the class label, allowing the model to estimate the joint probability of the features and class label\n",
    "   using Bayes' theorem.\n",
    "   \n",
    "Medical diagnosis--- Bayes' theorem is used to calculate the probability of a patient having a particular disease based on their\n",
    " symptoms and test results. The theorem allows doctors to incorporate prior knowledge about the prevalence of the disease in\n",
    "  the population, as well as the accuracy of the diagnostic tests, to arrive at a more accurate diagnosis.\n",
    "\n",
    "Spam filtering--- Bayes' theorem is used in email spam filtering algorithms to classify incoming messages as spam or not spam. \n",
    "The theorem allows the algorithm to learn from previous examples of spam and non-spam emails to improve its accuracy over time.\n",
    "\n",
    "Financial risk management--- Bayes' theorem is used in financial risk management to calculate the probability of an event, \n",
    "such as a market crash or default on a loan, based on historical data and other relevant factors. The theorem allows financial \n",
    "institutions to make more informed decisions about risk and portfolio management.\n",
    "\n",
    "Predictive modeling--- Bayes' theorem is used in predictive modeling to estimate the probability of a future event based on\n",
    " past observations. The theorem can be used to update the probability estimates as new data becomes available, \n",
    " allowing for more accurate predictions over time.\"\"\"\n",
    "\n",
    "\n",
    "\n",
    "\n",
    "\n",
    "\n",
    "\n"
   ]
  },
  {
   "cell_type": "code",
   "execution_count": 20,
   "metadata": {},
   "outputs": [
    {
     "data": {
      "text/plain": [
       "\"\\nConditional probability is the probability of an event A occurring given that another event B has occurred. \\nIt is denoted by P(A | B) and is calculated as:\\n\\nP(A | B) = P(A and B) / P(B)\\n\\nwhere P(A and B) is the probability of both A and B occurring, and P(B) is the probability of event B occurring.\\n\\nBayes' theorem is a formula that describes the relationship between conditional probabilities in the reverse direction. \\nIt is expressed as:\\n\\nP(A | B) = P(B | A) x P(A) / P(B)\\n\\nwhere P(B | A) is the conditional probability of B given A, P(A) is the prior probability of A, and P(B) is the prior probability of B.\\n\\nBayes' theorem is a powerful tool for updating beliefs based on new evidence. It allows us to calculate the probability of a \\nhypothesis (A) given new data (B), by taking into account the prior probability of the hypothesis (P(A)) and the probability of \\nthe data given the hypothesis (P(B | A)).\\n\\n\""
      ]
     },
     "execution_count": 20,
     "metadata": {},
     "output_type": "execute_result"
    }
   ],
   "source": [
    "# Q4. What is the relationship between Bayes' theorem and conditional probability?\n",
    "\"\"\"\n",
    "Conditional probability is the probability of an event A occurring given that another event B has occurred. \n",
    "It is denoted by P(A | B) and is calculated as:\n",
    "\n",
    "P(A | B) = P(A and B) / P(B)\n",
    "\n",
    "where P(A and B) is the probability of both A and B occurring, and P(B) is the probability of event B occurring.\n",
    "\n",
    "Bayes' theorem is a formula that describes the relationship between conditional probabilities in the reverse direction. \n",
    "It is expressed as:\n",
    "\n",
    "P(A | B) = P(B | A) x P(A) / P(B)\n",
    "\n",
    "where P(B | A) is the conditional probability of B given A, P(A) is the prior probability of A, and P(B) is the prior probability of B.\n",
    "\n",
    "Bayes' theorem is a powerful tool for updating beliefs based on new evidence. It allows us to calculate the probability of a \n",
    "hypothesis (A) given new data (B), by taking into account the prior probability of the hypothesis (P(A)) and the probability of \n",
    "the data given the hypothesis (P(B | A)).\n",
    "\n",
    "\"\"\"\n",
    "\n",
    "\n",
    "\n"
   ]
  },
  {
   "cell_type": "code",
   "execution_count": 21,
   "metadata": {},
   "outputs": [
    {
     "data": {
      "text/plain": [
       "\"There are three main types of Naive Bayes classifiers: Gaussian Naive Bayes, Multinomial Naive Bayes, and Bernoulli Naive Bayes. \\nThe choice of which type of Naive Bayes classifier to use depends on the nature of the data and the problem you are trying to solve.\\n\\nGaussian Naive Bayes: This classifier is appropriate when the features in your data are continuous and normally distributed.\\n For example, this classifier might be used for a problem involving measurements such as height or weight.\\n\\nMultinomial Naive Bayes: This classifier is appropriate when the features are discrete and represent counts or frequencies of events.\\n It is commonly used for text classification problems, where the features are the counts of words in a document.\\n\\nBernoulli Naive Bayes: This classifier is similar to the Multinomial Naive Bayes, but is used when the features are binary \\n. It is also commonly used for text classification problems, where the features are \\nbinary indicators of whether a word appears in a document or not.\\n\\nIt's worth noting that the choice of Naive Bayes classifier is not always clear-cut and there may be some overlap in their \\napplicability. In such cases, it's a good idea to try different classifiers and evaluate their performance on the problem at hand.\\n\\n\""
      ]
     },
     "execution_count": 21,
     "metadata": {},
     "output_type": "execute_result"
    }
   ],
   "source": [
    "# Q5. How do you choose which type of Naive Bayes classifier to use for any given problem?\n",
    "\n",
    "\n",
    "\"\"\"There are three main types of Naive Bayes classifiers: Gaussian Naive Bayes, Multinomial Naive Bayes, and Bernoulli Naive Bayes. \n",
    "The choice of which type of Naive Bayes classifier to use depends on the nature of the data and the problem you are trying to solve.\n",
    "\n",
    "Gaussian Naive Bayes: This classifier is appropriate when the features in your data are continuous and normally distributed.\n",
    " For example, this classifier might be used for a problem involving measurements such as height or weight.\n",
    "\n",
    "Multinomial Naive Bayes: This classifier is appropriate when the features are discrete and represent counts or frequencies of events.\n",
    " It is commonly used for text classification problems, where the features are the counts of words in a document.\n",
    "\n",
    "Bernoulli Naive Bayes: This classifier is similar to the Multinomial Naive Bayes, but is used when the features are binary \n",
    ". It is also commonly used for text classification problems, where the features are \n",
    "binary indicators of whether a word appears in a document or not.\n",
    "\n",
    "It's worth noting that the choice of Naive Bayes classifier is not always clear-cut and there may be some overlap in their \n",
    "applicability. In such cases, it's a good idea to try different classifiers and evaluate their performance on the problem at hand.\n",
    "\n",
    "\"\"\"\n",
    "\n",
    "\n",
    "\n",
    "\n",
    "\n"
   ]
  },
  {
   "cell_type": "code",
   "execution_count": 32,
   "metadata": {},
   "outputs": [
    {
     "name": "stdout",
     "output_type": "stream",
     "text": [
      "0.09230769230769231\n",
      "0.022222222222222223\n"
     ]
    }
   ],
   "source": [
    "# Q6. Assignment:\n",
    "# You have a dataset with two features, X1 and X2, and two possible classes, A and B. You want to use Naive\n",
    "# Bayes to classify a new instance with features X1 = 3 and X2 = 4. The following table shows the frequency of\n",
    "# each feature value for each class:\n",
    "# Class X1=1 X1=2 X1=3 X2=1 X2=2 X2=3 X2=4\n",
    "# A       3    3     4    4    3   3    3\n",
    "# B       2    2     1    2    2   2    3\n",
    "# Assuming equal prior probabilities for each class, which class would Naive Bayes predict the new instance\n",
    "# to belong to?\n",
    "\n",
    "\"\"\"\n",
    "\n",
    " we need to calculate the prior probability of each class, assuming equal prior probabilities for each class:\n",
    "\n",
    "P(A) = P(B) = 0.5\n",
    "\"\"\"\n",
    "# P(X1=3 | A) \n",
    "x=4/10\n",
    "# P(X1=3 | A) \n",
    "x=4/10\n",
    "# P(X1=3 | B)\n",
    "y=1/5\n",
    "# P(X2=4 | A)\n",
    "z=3/13 \n",
    "# P(X2=4 | B)\n",
    "w=1/9\n",
    "# P(A | X1=3, X2=4) = P(X1=3 | A) x P(X2=4 | A) x P(A) \n",
    "\n",
    "print(x*z)\n",
    "# P(B | X1=3, X2=4) = P(X1=3 | B) x P(X2=4 | B) x P(B) \n",
    "print(y*w)\n",
    "# this probability will predict the class belong to the class a \n",
    "\n",
    "\n"
   ]
  },
  {
   "cell_type": "code",
   "execution_count": null,
   "metadata": {},
   "outputs": [],
   "source": []
  }
 ],
 "metadata": {
  "kernelspec": {
   "display_name": "Python 3",
   "language": "python",
   "name": "python3"
  },
  "language_info": {
   "codemirror_mode": {
    "name": "ipython",
    "version": 3
   },
   "file_extension": ".py",
   "mimetype": "text/x-python",
   "name": "python",
   "nbconvert_exporter": "python",
   "pygments_lexer": "ipython3",
   "version": "3.11.2"
  },
  "orig_nbformat": 4
 },
 "nbformat": 4,
 "nbformat_minor": 2
}
